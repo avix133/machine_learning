{
 "cells": [
  {
   "cell_type": "code",
   "execution_count": 38,
   "metadata": {},
   "outputs": [
    {
     "data": {
      "image/png": "[encoded data removed]",
      "text/plain": [
       "<Figure size 432x288 with 1 Axes>"
      ]
     },
     "metadata": {},
     "output_type": "display_data"
    }
   ],
   "source": [
    "import numpy as np\n",
    "import matplotlib.pyplot as plt\n",
    "import random\n",
    "\n",
    "X=np.array([(4,1940),(9,2960),(9,4630),(78,1528),(90,2040),(50,3700),(467,14815),(509,15200),(290,15700),(215,6045)])\n",
    "x1 = np.array(X[:,0])\n",
    "x2 = np.array(X[:,1])\n",
    "\n",
    "\n",
    "fig, ax = plt.subplots()\n",
    "ax.scatter(x1,x2)\n",
    "ax.set(xlabel='Seats count', ylabel='Distance range (km)',\n",
    "       title='Aircrafts')\n",
    "ax.grid()\n",
    "plt.show()"
   ]
  },
  {
   "cell_type": "code",
   "execution_count": 39,
   "metadata": {},
   "outputs": [],
   "source": [
    "train_data = np.array(X)\n",
    "max_values = train_data.max(0)\n",
    "\n",
    "X_norm = np.divide(train_data,max_values)"
   ]
  },
  {
   "cell_type": "code",
   "execution_count": 40,
   "metadata": {
    "scrolled": true
   },
   "outputs": [
    {
     "data": {
      "text/plain": [
       "array([[0.00549494, 0.66922226],\n",
       "       [0.80551094, 0.38303284],\n",
       "       [0.97346749, 0.34102628],\n",
       "       [0.4343033 , 0.17025984],\n",
       "       [0.04990775, 0.94569537],\n",
       "       [0.32017765, 0.50224872],\n",
       "       [0.60446159, 0.036133  ],\n",
       "       [0.99782275, 0.54340938],\n",
       "       [0.697136  , 0.28883889],\n",
       "       [0.23226986, 0.25012989]])"
      ]
     },
     "execution_count": 40,
     "metadata": {},
     "output_type": "execute_result"
    }
   ],
   "source": [
    "m = 2\n",
    "error_margin = 0.01\n",
    "\n",
    "\n",
    "centers = []\n",
    "groups = 2\n",
    "assignation = np.random.rand( len(X_norm), groups)\n",
    "\n",
    "assignation"
   ]
  },
  {
   "cell_type": "code",
   "execution_count": 41,
   "metadata": {},
   "outputs": [],
   "source": [
    "\n",
    "def mahalanobis_distance(x, v):\n",
    "    sub = x - v\n",
    "    inv = np.identity(len(x))\n",
    "    return np.sqrt(np.dot(np.dot(sub.T, inv), sub))\n",
    "\n",
    "def calculate_u(x,k):\n",
    "    global centers\n",
    "    sum1=(1+(mahalanobis_distance(x, centers[k])/calculate_eta(x, centers[k],k))**2)**-1\n",
    "    return sum1\n",
    "\n",
    "def calculate_eta(xx,yy,i):\n",
    "    global assignation\n",
    "    global data_set\n",
    "    global groups\n",
    "    return sum( assignation[i][k]**2*mahalanobis_distance(xx,yy)**2 for k in range(groups))/sum( assignation[i][k]**2 for k in range(groups))"
   ]
  },
  {
   "cell_type": "code",
   "execution_count": 42,
   "metadata": {},
   "outputs": [],
   "source": [
    "import random\n",
    "\n",
    "centers = []\n",
    "space=[[0,1],[0,1]]\n",
    "\n",
    "def select_centers():\n",
    "    global centers\n",
    "    global groups\n",
    "    global space\n",
    "    iter=0\n",
    "    while iter<groups:\n",
    "        centers.append((random.uniform(space[0][0],space[0][1]), \n",
    "                        random.uniform(space[1][0],space[1][1])))\n",
    "        iter=iter+1\n",
    "        \n",
    "select_centers()"
   ]
  },
  {
   "cell_type": "code",
   "execution_count": 43,
   "metadata": {},
   "outputs": [],
   "source": [
    "def calculate_differences(new_assignation):\n",
    "    global assignation    \n",
    "    return np.sum(np.abs(np.subtract(assignation,new_assignation)))"
   ]
  },
  {
   "cell_type": "code",
   "execution_count": 44,
   "metadata": {},
   "outputs": [],
   "source": [
    "def calculate_new_centers(u):\n",
    "    global centers\n",
    "    new_centers=[]\n",
    "    for k in range(groups):\n",
    "        u_x_vector=np.zeros(2)\n",
    "        u_scalar=0.0\n",
    "        for i in range(len(X_norm)):\n",
    "            u_scalar = u_scalar+(u[i][k]**m)\n",
    "            u_x_vector=np.add(u_x_vector,np.multiply(u[i][k]**m, X_norm[i]))\n",
    "        assert(u_scalar != 0)\n",
    "        new_centers.append(np.divide(u_x_vector,u_scalar))\n",
    "    centers=new_centers"
   ]
  },
  {
   "cell_type": "code",
   "execution_count": 45,
   "metadata": {},
   "outputs": [],
   "source": [
    "def cluster():\n",
    "    global assignation    \n",
    "    global error_margin    \n",
    "    global groups\n",
    "    difference_limit_not_achieved=True\n",
    "    iter=0\n",
    "    while difference_limit_not_achieved:\n",
    "        new_assignation=[]\n",
    "        for i in range(len(X_norm)):\n",
    "            new_assignation_vector=[]\n",
    "            for k in range(groups):\n",
    "                new_assignation_vector.append(calculate_u(X_norm[i],k))\n",
    "            new_assignation.append(new_assignation_vector)\n",
    "        calculate_new_centers(new_assignation)\n",
    "\n",
    "        if iter>0:\n",
    "            if calculate_differences(new_assignation) < error_margin or iter > 10:\n",
    "                difference_limit_not_achieved=False\n",
    "        assignation=new_assignation\n",
    "        iter=iter+1"
   ]
  },
  {
   "cell_type": "code",
   "execution_count": 46,
   "metadata": {
    "scrolled": true
   },
   "outputs": [
    {
     "data": {
      "text/plain": [
       "[(0.07488309585460451, 0.1827415854310941),\n",
       " (0.177361197323482, 0.5181527137111479),\n",
       " (0.10305448927234118, 0.11646326824679687),\n",
       " (0.692727363123342, 0.24014623627152987)]"
      ]
     },
     "execution_count": 46,
     "metadata": {},
     "output_type": "execute_result"
    }
   ],
   "source": [
    "select_centers()\n",
    "centers"
   ]
  },
  {
   "cell_type": "code",
   "execution_count": 47,
   "metadata": {},
   "outputs": [
    {
     "data": {
      "text/plain": [
       "array([[0.00549494, 0.66922226],\n",
       "       [0.80551094, 0.38303284],\n",
       "       [0.97346749, 0.34102628],\n",
       "       [0.4343033 , 0.17025984],\n",
       "       [0.04990775, 0.94569537],\n",
       "       [0.32017765, 0.50224872],\n",
       "       [0.60446159, 0.036133  ],\n",
       "       [0.99782275, 0.54340938],\n",
       "       [0.697136  , 0.28883889],\n",
       "       [0.23226986, 0.25012989]])"
      ]
     },
     "execution_count": 47,
     "metadata": {},
     "output_type": "execute_result"
    }
   ],
   "source": [
    "assignation"
   ]
  },
  {
   "cell_type": "code",
   "execution_count": 48,
   "metadata": {},
   "outputs": [
    {
     "data": {
      "image/png": "[encoded data removed]",
      "text/plain": [
       "<Figure size 432x288 with 1 Axes>"
      ]
     },
     "metadata": {},
     "output_type": "display_data"
    }
   ],
   "source": [
    "cluster()\n",
    "global assignation\n",
    "red = X_norm[np.where(np.array(assignation)[:,0] > np.array(assignation)[:,1])]\n",
    "blue = X_norm[np.where(np.array(assignation)[:,0] < np.array(assignation)[:,1])]\n",
    "\n",
    "fig, ax = plt.subplots()\n",
    "\n",
    "ax.scatter(blue[:,0], blue[:,1],c = 'blue')\n",
    "ax.scatter(red[:,0], red[:,1], c = 'red')\n",
    "ax.scatter(np.array(centers)[:,0], np.array(centers)[:,1], marker='x', c='black')\n",
    "ax.set(xlabel = 'Seats count', \n",
    "       ylabel = 'Distance range (km)',\n",
    "       title = 'Aircrafts (clusters)')\n",
    "ax.grid()\n",
    "plt.show()"
   ]
  }
 ],
 "metadata": {
  "kernelspec": {
   "display_name": "Python 3",
   "language": "python",
   "name": "python3"
  },
  "language_info": {
   "codemirror_mode": {
    "name": "ipython",
    "version": 3
   },
   "file_extension": ".py",
   "mimetype": "text/x-python",
   "name": "python",
   "nbconvert_exporter": "python",
   "pygments_lexer": "ipython3",
   "version": "3.6.5"
  }
 },
 "nbformat": 4,
 "nbformat_minor": 2
}
